{
 "cells": [
  {
   "cell_type": "code",
   "execution_count": 1,
   "metadata": {},
   "outputs": [],
   "source": [
    "import requests\n",
    "from bs4 import BeautifulSoup\n",
    "import os\n",
    "from docx import Document\n",
    "from docx.shared import Inches\n",
    "from docx.enum.text import WD_ALIGN_PARAGRAPH"
   ]
  },
  {
   "cell_type": "code",
   "execution_count": 2,
   "metadata": {},
   "outputs": [],
   "source": [
    "response = requests.get('https://edition.cnn.com/travel/article/scenic-airport-landings-2020/index.html')\n",
    "page = BeautifulSoup(response.content,'html.parser')"
   ]
  },
  {
   "cell_type": "code",
   "execution_count": 3,
   "metadata": {},
   "outputs": [],
   "source": [
    "title = page.find('h1',{'id':'maincontent'}).text.strip()"
   ]
  },
  {
   "cell_type": "code",
   "execution_count": 4,
   "metadata": {},
   "outputs": [
    {
     "data": {
      "text/plain": [
       "'World’s 10 most scenic airport landings for 2020'"
      ]
     },
     "execution_count": 4,
     "metadata": {},
     "output_type": "execute_result"
    }
   ],
   "source": [
    "title"
   ]
  },
  {
   "cell_type": "code",
   "execution_count": 5,
   "metadata": {},
   "outputs": [],
   "source": [
    "byline_name = page.find('span',{'class':'byline__name'}).text"
   ]
  },
  {
   "cell_type": "code",
   "execution_count": 6,
   "metadata": {},
   "outputs": [
    {
     "data": {
      "text/plain": [
       "\"Maureen O'Hare\""
      ]
     },
     "execution_count": 6,
     "metadata": {},
     "output_type": "execute_result"
    }
   ],
   "source": [
    "byline_name"
   ]
  },
  {
   "cell_type": "code",
   "execution_count": 7,
   "metadata": {},
   "outputs": [],
   "source": [
    "updated = page.find('div',{'class':'timestamp vossi-timestamp'}).text.strip().replace(\"\\n    \",\"\")"
   ]
  },
  {
   "cell_type": "code",
   "execution_count": 8,
   "metadata": {},
   "outputs": [
    {
     "data": {
      "text/plain": [
       "'Updated    1:22 PM EDT, Mon September 28, 2020'"
      ]
     },
     "execution_count": 8,
     "metadata": {},
     "output_type": "execute_result"
    }
   ],
   "source": [
    "updated"
   ]
  },
  {
   "cell_type": "code",
   "execution_count": 9,
   "metadata": {},
   "outputs": [],
   "source": [
    "paragraphs = page.find_all('p',{'class':'paragraph'})"
   ]
  },
  {
   "cell_type": "code",
   "execution_count": 10,
   "metadata": {},
   "outputs": [],
   "source": [
    "paragraphs_list = []\n",
    "for p in paragraphs:\n",
    "    paragraphs_list.append(p.text.strip())"
   ]
  },
  {
   "cell_type": "code",
   "execution_count": 11,
   "metadata": {},
   "outputs": [
    {
     "data": {
      "text/plain": [
       "['They say absence makes the heart grow fonder.',\n",
       " 'The world’s most scenic airport airport approaches, as ranked annually by booking platform PrivateFly, are this year looking more glorious than ever.',\n",
       " 'More than 6,000 frequent fliers and aviation enthusiasts took part in the 2020 poll, with voting taking place in February and March, just before travel restrictions to fight Covid-19 were introduced around the world.',\n",
       " 'The winner, for the third year in a row, is Ireland’s Donegal Airport. On the island’s northwest coast, there are sweeping views of rugged coastline, pristine beaches and the steep slopes of Mount Errigal on the approach to this regional airport in Carrickfinn.',\n",
       " 'While the top spot was held by an old favorite, there are six new entries in this new year’s top 10.',\n",
       " 'The highest new entry is Tanzania’s Msembe Airstrip, in second place, which serves East Africa’s Ruaha National Park.',\n",
       " 'Skiathos Alexandros Papadiamantis Airport, at number three, is also making its debut. The airport on the Greek island of Skiathos, in the Aegean Sea, is popular with planespotters thanks to its short runway and close proximity to a public road.',\n",
       " '“Many of us have flown less frequently this year, but these ultimate destination landings are a welcome reminder of the uplifting power of travel and aviation – and a jaw-dropping inspiration for some memorable future flights,” Adam Twidell, CEO of the UK-based booking platform for private jet charters, said in a press release.',\n",
       " 'Florida’s Orlando Melbourne International Airport was the only top 10 entry for the United States, holding onto its ranking as the fourth most scenic airport view in the world.',\n",
       " '“First, you see the beautiful Atlantic Ocean and then pass over the Indian and Banana Rivers,” one 2019 voter said of this descent.',\n",
       " '“Then, there is a pass over the Kennedy Space Center and Cape Canaveral Air Force Station, where you may get a glimpse of a rocket on a launch pad.”',\n",
       " 'Scotland’s Barra Airport approach, which offers stunning coastal views, slipped down three spots to fifth place, while Bora Bora’s Motu Mute Airport is ranked sixth best in the world. It’s built on a island on a crystal-blue lagoon in French Polynesia.',\n",
       " 'St Maarten’s Princess Juliana International Airport, where planes swoop low over Maho Beach, is at number eight, and the Seychelles’ Praslin Island Airport at number nine.',\n",
       " 'The top 10 was rounded out by two new entries: Dubai International Airport and Fiji’s Nadi International Airport.',\n",
       " 'For the first time, the poll also revealed the highest-ranked airport by region. The Asian winner, Malé (Velana) International Airport the Maldives, was the only one not to also break the top 10.',\n",
       " 'The airport is a base for Trans Maldivian Airways, the world’s largest seaplane operator, which is famed for its unconventionally clad “barefoot pilots.”',\n",
       " '1. Donegal Airport, Ireland',\n",
       " '2. Msembe Airstrip, Tanzania',\n",
       " '3. Skiathos (Alexandros Papadiamantis) Airport, Greece',\n",
       " '4. Orlando (Melbourne) International Airport, Florida',\n",
       " '5. Barra Airport, Scotland',\n",
       " '6. Bora Bora (Motu Mute) Airport, French Polynesia',\n",
       " '7. St Maarten (Princess Juliana) International Airport, St Maarten',\n",
       " '8. Praslin Island Airport, Seychelles',\n",
       " '9. Dubai International Airport, United Arab Emirates',\n",
       " '10. Nadi International Airport, Fiji']"
      ]
     },
     "execution_count": 11,
     "metadata": {},
     "output_type": "execute_result"
    }
   ],
   "source": [
    "paragraphs_list"
   ]
  },
  {
   "cell_type": "code",
   "execution_count": 12,
   "metadata": {},
   "outputs": [
    {
     "data": {
      "text/plain": [
       "'CNN - They say absence makes the heart grow fonder.'"
      ]
     },
     "execution_count": 12,
     "metadata": {},
     "output_type": "execute_result"
    }
   ],
   "source": [
    "head_content = page.find('cite',{'class':'source__cite'}).find('span',{'class':'source__text'}).text + \" - \" + paragraphs_list[0]\n",
    "head_content"
   ]
  },
  {
   "cell_type": "code",
   "execution_count": 13,
   "metadata": {},
   "outputs": [
    {
     "data": {
      "text/plain": [
       "['The world’s most scenic airport airport approaches, as ranked annually by booking platform PrivateFly, are this year looking more glorious than ever.',\n",
       " 'More than 6,000 frequent fliers and aviation enthusiasts took part in the 2020 poll, with voting taking place in February and March, just before travel restrictions to fight Covid-19 were introduced around the world.',\n",
       " 'The winner, for the third year in a row, is Ireland’s Donegal Airport. On the island’s northwest coast, there are sweeping views of rugged coastline, pristine beaches and the steep slopes of Mount Errigal on the approach to this regional airport in Carrickfinn.',\n",
       " 'While the top spot was held by an old favorite, there are six new entries in this new year’s top 10.',\n",
       " 'The highest new entry is Tanzania’s Msembe Airstrip, in second place, which serves East Africa’s Ruaha National Park.',\n",
       " 'Skiathos Alexandros Papadiamantis Airport, at number three, is also making its debut. The airport on the Greek island of Skiathos, in the Aegean Sea, is popular with planespotters thanks to its short runway and close proximity to a public road.',\n",
       " '“Many of us have flown less frequently this year, but these ultimate destination landings are a welcome reminder of the uplifting power of travel and aviation – and a jaw-dropping inspiration for some memorable future flights,” Adam Twidell, CEO of the UK-based booking platform for private jet charters, said in a press release.',\n",
       " 'Florida’s Orlando Melbourne International Airport was the only top 10 entry for the United States, holding onto its ranking as the fourth most scenic airport view in the world.',\n",
       " '“First, you see the beautiful Atlantic Ocean and then pass over the Indian and Banana Rivers,” one 2019 voter said of this descent.',\n",
       " '“Then, there is a pass over the Kennedy Space Center and Cape Canaveral Air Force Station, where you may get a glimpse of a rocket on a launch pad.”',\n",
       " 'Scotland’s Barra Airport approach, which offers stunning coastal views, slipped down three spots to fifth place, while Bora Bora’s Motu Mute Airport is ranked sixth best in the world. It’s built on a island on a crystal-blue lagoon in French Polynesia.',\n",
       " 'St Maarten’s Princess Juliana International Airport, where planes swoop low over Maho Beach, is at number eight, and the Seychelles’ Praslin Island Airport at number nine.',\n",
       " 'The top 10 was rounded out by two new entries: Dubai International Airport and Fiji’s Nadi International Airport.',\n",
       " 'For the first time, the poll also revealed the highest-ranked airport by region. The Asian winner, Malé (Velana) International Airport the Maldives, was the only one not to also break the top 10.',\n",
       " 'The airport is a base for Trans Maldivian Airways, the world’s largest seaplane operator, which is famed for its unconventionally clad “barefoot pilots.”']"
      ]
     },
     "execution_count": 13,
     "metadata": {},
     "output_type": "execute_result"
    }
   ],
   "source": [
    "content = paragraphs_list[1:-10]\n",
    "content"
   ]
  },
  {
   "cell_type": "code",
   "execution_count": 14,
   "metadata": {},
   "outputs": [],
   "source": [
    "top_10_text = page.find('h2',{'class':'subheader'}).text.strip()"
   ]
  },
  {
   "cell_type": "code",
   "execution_count": 15,
   "metadata": {},
   "outputs": [
    {
     "data": {
      "text/plain": [
       "'10 most scenic airport landings, according to PrivateFly'"
      ]
     },
     "execution_count": 15,
     "metadata": {},
     "output_type": "execute_result"
    }
   ],
   "source": [
    "top_10_text"
   ]
  },
  {
   "cell_type": "code",
   "execution_count": 16,
   "metadata": {},
   "outputs": [],
   "source": [
    "gallery = page.find('div',{'class':'gallery-inline__slides'})"
   ]
  },
  {
   "cell_type": "code",
   "execution_count": 17,
   "metadata": {},
   "outputs": [],
   "source": [
    "all_data = gallery.find_all(\"div\",{'class':'image image__hide-placeholder'})"
   ]
  },
  {
   "cell_type": "code",
   "execution_count": 18,
   "metadata": {},
   "outputs": [],
   "source": [
    "data_list_dict = []"
   ]
  },
  {
   "cell_type": "code",
   "execution_count": 19,
   "metadata": {},
   "outputs": [],
   "source": [
    "for i in all_data:\n",
    "    image = i.find('div',{'class':'image__container'}).find('picture',{'class':'image__picture'}).find('img').attrs['src']\n",
    "    name = i.find('div',{'class':'image__metadata'}).find('div',{'class':'image__caption attribution'}).find('span').text.split(\":\")[0]\n",
    "    cap = i.find('div',{'class':'image__metadata'}).find('div',{'class':'image__caption attribution'}).find('span').text.split(\":\")[1]\n",
    "\n",
    "    if name == \"World's most scenic airports\":\n",
    "        name = \"10. Nadi International Airport, Fiji\"\n",
    "\n",
    "    data_dict = {\n",
    "        'Name':name,\n",
    "        'Caption':cap,\n",
    "        'Image':image\n",
    "    }\n",
    "\n",
    "    data_list_dict.append(data_dict)"
   ]
  },
  {
   "cell_type": "code",
   "execution_count": 20,
   "metadata": {},
   "outputs": [],
   "source": [
    "os.makedirs(\"scraped_images\", exist_ok=True)"
   ]
  },
  {
   "cell_type": "code",
   "execution_count": 21,
   "metadata": {},
   "outputs": [
    {
     "name": "stdout",
     "output_type": "stream",
     "text": [
      "Downloaded: scraped_images\\image_1.jpg\n",
      "Downloaded: scraped_images\\image_2.jpg\n",
      "Downloaded: scraped_images\\image_3.jpg\n",
      "Downloaded: scraped_images\\image_4.jpg\n",
      "Downloaded: scraped_images\\image_5.jpg\n",
      "Downloaded: scraped_images\\image_6.jpg\n",
      "Downloaded: scraped_images\\image_7.jpg\n",
      "Downloaded: scraped_images\\image_8.jpg\n",
      "Downloaded: scraped_images\\image_9.jpg\n",
      "Downloaded: scraped_images\\image_10.jpg\n"
     ]
    }
   ],
   "source": [
    "for index,value in enumerate(data_list_dict):\n",
    "    response = requests.get(value['Image'])\n",
    "\n",
    "    filename = f\"image_{index+1}.jpg\"\n",
    "\n",
    "    file_path = os.path.join(\"scraped_images\", filename)\n",
    "\n",
    "    with open(file_path, \"wb\") as f:\n",
    "        f.write(response.content)\n",
    "\n",
    "    print(\"Downloaded:\", file_path)"
   ]
  },
  {
   "cell_type": "code",
   "execution_count": 22,
   "metadata": {},
   "outputs": [],
   "source": [
    "doc = Document()"
   ]
  },
  {
   "cell_type": "code",
   "execution_count": 23,
   "metadata": {},
   "outputs": [
    {
     "name": "stderr",
     "output_type": "stream",
     "text": [
      "<>:13: SyntaxWarning: invalid escape sequence '\\i'\n",
      "<>:13: SyntaxWarning: invalid escape sequence '\\i'\n",
      "C:\\Users\\hazem\\AppData\\Local\\Temp\\ipykernel_10908\\103331659.py:13: SyntaxWarning: invalid escape sequence '\\i'\n",
      "  doc.add_picture(f'scraped_images\\image_{index+1}.jpg', width=Inches(5), height=Inches(3))\n"
     ]
    }
   ],
   "source": [
    "head = doc.add_heading(title,level=1)\n",
    "head.alignment = WD_ALIGN_PARAGRAPH.CENTER\n",
    "doc.add_heading(\"by\"+\" \"+byline_name,level=3)\n",
    "doc.add_heading(updated,level=3)\n",
    "doc.add_paragraph('')\n",
    "doc.add_heading(head_content,level=2)\n",
    "for i in content:\n",
    "    doc.add_paragraph(i)\n",
    "doc.add_paragraph('')\n",
    "doc.add_heading(top_10_text,level=1)\n",
    "doc.add_paragraph('')\n",
    "for index,value in enumerate(data_list_dict):\n",
    "    doc.add_picture(f'scraped_images\\image_{index+1}.jpg', width=Inches(5), height=Inches(3))\n",
    "    doc.add_heading(value['Name'][3:],level=3)\n",
    "    doc.add_paragraph(value['Caption'])\n",
    "doc.save(\"scraped_document.docx\")"
   ]
  },
  {
   "cell_type": "code",
   "execution_count": null,
   "metadata": {},
   "outputs": [],
   "source": []
  }
 ],
 "metadata": {
  "kernelspec": {
   "display_name": "scraper_env",
   "language": "python",
   "name": "python3"
  },
  "language_info": {
   "codemirror_mode": {
    "name": "ipython",
    "version": 3
   },
   "file_extension": ".py",
   "mimetype": "text/x-python",
   "name": "python",
   "nbconvert_exporter": "python",
   "pygments_lexer": "ipython3",
   "version": "3.12.4"
  }
 },
 "nbformat": 4,
 "nbformat_minor": 2
}
